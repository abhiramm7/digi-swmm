{
 "cells": [
  {
   "cell_type": "markdown",
   "id": "211f3a2a",
   "metadata": {},
   "source": [
    "# Simulation Sandbox\n",
    "\n",
    "#### Objective 🎯\n",
    "\n",
    "This notebook aims to familiarize the webinar participants with the simulation environment.\n",
    "\n",
    "**Tools of the trade**\n",
    "- [pyswmm](https://www.pyswmm.org): pyswmm is a Python wrapper for controlling EPA-SWMM's simulation engine. pyswmm is available in PyPI and on GitHub. pyswmm enables us to pause the simulation, query the states, make the necessary modification, and resume the simulation. \n",
    "\n",
    "- [pystorms](https://www.pystorms.org): pystorms is a collection of real-world inspired stormwater networks for evaluating and developing real-time control algorithms. "
   ]
  },
  {
   "cell_type": "code",
   "execution_count": null,
   "id": "a7ba8d39",
   "metadata": {},
   "outputs": [],
   "source": [
    "!pip install pyswmm pystorms"
   ]
  },
  {
   "cell_type": "code",
   "execution_count": 5,
   "id": "8edb3c25",
   "metadata": {},
   "outputs": [],
   "source": [
    "# import libs\n",
    "import pyswmm\n",
    "import pystorms"
   ]
  },
  {
   "cell_type": "code",
   "execution_count": 6,
   "id": "b8aa65f6",
   "metadata": {},
   "outputs": [
    {
     "name": "stdout",
     "output_type": "stream",
     "text": [
      "SWMM input file path: /Users/amullap/Archive/dev/digi-swmm/venv/lib/python3.11/site-packages/pystorms/networks/theta.inp\n"
     ]
    }
   ],
   "source": [
    "# NOTE: If you are unfamiliar with input files, EPA-SWMM uses a input file to represent the network topology \n",
    "# and forcing events like rainfall and dry-weather flows.\n",
    "\n",
    "# Load the input file from pystorms.\n",
    "input_file = pystorms.load_network(\"theta\")\n",
    "print(f\"SWMM input file path: {input_file}\")"
   ]
  },
  {
   "cell_type": "markdown",
   "id": "c3373c4c",
   "metadata": {},
   "source": [
    "👆 pystorms is just providing the path to the input file."
   ]
  },
  {
   "cell_type": "code",
   "execution_count": 7,
   "id": "076af36e",
   "metadata": {},
   "outputs": [
    {
     "name": "stdout",
     "output_type": "stream",
     "text": [
      "\n",
      "... SWMM Version 5.2.4\n",
      "... Run Complete\n",
      " o  Retrieving project data\n",
      " o  Simulating day: 0     hour: 0     hour: 0     hour: 0     hour: 0     hour: 0     hour: 0     hour: 0     hour: 0     hour: 0     hour: 0     hour: 0     hour: 0     hour: 0     hour: 0     hour: 0     hour: 0     hour: 0     hour: 0     hour: 0     hour: 0     hour: 0     hour: 0     hour: 0     hour: 1     hour: 1     hour: 1     hour: 1     hour: 1     hour: 1     hour: 1     hour: 1     hour: 1     hour: 1     hour: 1     hour: 1     hour: 1     hour: 1     hour: 1     hour: 1     hour: 1     hour: 1     hour: 1     hour: 1     hour: 1     hour: 1     hour: 1     hour: 1     hour: 2     hour: 2     hour: 2     hour: 2     hour: 2     hour: 2     hour: 2     hour: 2     hour: 2     hour: 2     hour: 2     hour: 2     hour: 2     hour: 2     hour: 2     hour: 2     hour: 2     hour: 2     hour: 2     hour: 2     hour: 2     hour: 2     hour: 2     hour: 2     hour: 3     hour: 3     hour: 3     hour: 3     hour: 3     hour: 3     hour: Simulation complete           "
     ]
    }
   ],
   "source": [
    "# Once we have the stormwater network, we hand over the input file to the awesome pyswmm\n",
    "# pyswmm helps us control EPA-SWMM from python, so that we don't have to press buttons in a GUI anymore 😆\n",
    "simulation = pyswmm.Simulation(inputfile=input_file)\n",
    "\n",
    "# run the simulation\n",
    "simulation.execute()"
   ]
  },
  {
   "cell_type": "markdown",
   "id": "dd06e612-e70c-41aa-bb40-ef568abdb3b3",
   "metadata": {},
   "source": [
    "You will 'Run Complete' indicating that model has run."
   ]
  }
 ],
 "metadata": {
  "kernelspec": {
   "display_name": "Python 3 (ipykernel)",
   "language": "python",
   "name": "python3"
  },
  "language_info": {
   "codemirror_mode": {
    "name": "ipython",
    "version": 3
   },
   "file_extension": ".py",
   "mimetype": "text/x-python",
   "name": "python",
   "nbconvert_exporter": "python",
   "pygments_lexer": "ipython3",
   "version": "3.11.10"
  }
 },
 "nbformat": 4,
 "nbformat_minor": 5
}
