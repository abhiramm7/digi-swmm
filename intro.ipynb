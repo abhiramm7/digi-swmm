{
 "cells": [
  {
   "cell_type": "markdown",
   "id": "1295bfab-7d1f-4ca6-8bcf-262efb93f713",
   "metadata": {
    "editable": true,
    "slideshow": {
     "slide_type": ""
    },
    "tags": []
   },
   "source": [
    "# WSDA Webinar\n",
    "\n",
    "Digital water systems are becoming a reality\n",
    "\n",
    "Cyber physical stormwater systems\n",
    "Objective:\n",
    "1. Runnning simulation\n",
    "2. "
   ]
  }
 ],
 "metadata": {
  "kernelspec": {
   "display_name": "Python 3 (ipykernel)",
   "language": "python",
   "name": "python3"
  },
  "language_info": {
   "codemirror_mode": {
    "name": "ipython",
    "version": 3
   },
   "file_extension": ".py",
   "mimetype": "text/x-python",
   "name": "python",
   "nbconvert_exporter": "python",
   "pygments_lexer": "ipython3",
   "version": "3.11.7"
  }
 },
 "nbformat": 4,
 "nbformat_minor": 5
}
